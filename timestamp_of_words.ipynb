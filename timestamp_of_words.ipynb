{
  "nbformat": 4,
  "nbformat_minor": 0,
  "metadata": {
    "colab": {
      "provenance": [],
      "authorship_tag": "ABX9TyOq8ecMJK/T9VQpotzWTI8Z",
      "include_colab_link": true
    },
    "kernelspec": {
      "name": "python3",
      "display_name": "Python 3"
    },
    "language_info": {
      "name": "python"
    }
  },
  "cells": [
    {
      "cell_type": "markdown",
      "metadata": {
        "id": "view-in-github",
        "colab_type": "text"
      },
      "source": [
        "<a href=\"https://colab.research.google.com/github/sainadhanupoju/finding-timestamps/blob/main/timestamp_of_words.ipynb\" target=\"_parent\"><img src=\"https://colab.research.google.com/assets/colab-badge.svg\" alt=\"Open In Colab\"/></a>"
      ]
    },
    {
      "cell_type": "code",
      "execution_count": null,
      "metadata": {
        "colab": {
          "base_uri": "https://localhost:8080/",
          "height": 127
        },
        "id": "qH4h4oxhJjOU",
        "outputId": "b93f2e32-3e57-4958-f5e4-e382d0891bac"
      },
      "outputs": [
        {
          "output_type": "display_data",
          "data": {
            "text/plain": [
              "<IPython.core.display.Javascript object>"
            ],
            "application/javascript": [
              "\n",
              "function captureKey(event) {\n",
              "    var word = document.getElementById('input-box').value;\n",
              "    if (event.key === \" \" || event.key === \"Enter\") {\n",
              "        google.colab.kernel.invokeFunction('record_timestamp', [word], {});\n",
              "        document.getElementById('input-box').value = \"\"; // Clear after each word\n",
              "    }\n",
              "}\n"
            ]
          },
          "metadata": {}
        },
        {
          "output_type": "display_data",
          "data": {
            "text/plain": [
              "<IPython.core.display.Javascript object>"
            ],
            "application/javascript": [
              "google.colab.output.setIframeHeight(0, true, {maxHeight: 500})"
            ]
          },
          "metadata": {}
        },
        {
          "output_type": "display_data",
          "data": {
            "text/plain": [
              "<IPython.core.display.HTML object>"
            ],
            "text/html": [
              "\n",
              "    <input type=\"text\" id=\"input-box\" onkeyup=\"captureKey(event)\" placeholder=\"Type here...\">\n"
            ]
          },
          "metadata": {}
        },
        {
          "output_type": "stream",
          "name": "stdout",
          "text": [
            "Recorded 'hi ' at 2024-11-12 11:35:46.324079\n",
            "Recorded 'hi ' at 2024-11-12 11:35:51.767975\n",
            "Recorded 'is ' at 2024-11-12 11:35:53.061820\n",
            "Recorded 'hi ' at 2024-11-12 11:35:58.142911\n",
            "Recorded 'guys ' at 2024-11-12 11:36:01.284218\n"
          ]
        }
      ],
      "source": [
        "from IPython.display import display, Javascript, HTML  # Import HTML\n",
        "from datetime import datetime\n",
        "\n",
        "# Initialize a list to store timestamps and words\n",
        "timestamps = []\n",
        "\n",
        "# JavaScript code to capture keystrokes and timestamps\n",
        "js_code = '''\n",
        "function captureKey(event) {\n",
        "    var word = document.getElementById('input-box').value;\n",
        "    if (event.key === \" \" || event.key === \"Enter\") {\n",
        "        google.colab.kernel.invokeFunction('record_timestamp', [word], {});\n",
        "        document.getElementById('input-box').value = \"\"; // Clear after each word\n",
        "    }\n",
        "}\n",
        "'''\n",
        "\n",
        "# Display a text box for typing and bind keystrokes to our function\n",
        "display(Javascript(js_code))\n",
        "input_html = '''\n",
        "    <input type=\"text\" id=\"input-box\" onkeyup=\"captureKey(event)\" placeholder=\"Type here...\">\n",
        "'''\n",
        "display(Javascript(\"google.colab.output.setIframeHeight(0, true, {maxHeight: 500})\"))\n",
        "display(HTML(input_html))  # Use display(HTML(input_html)) instead of display_html\n",
        "\n",
        "# Function to capture timestamps\n",
        "def record_timestamp(word):\n",
        "    timestamp = datetime.now()\n",
        "    timestamps.append((word, timestamp))\n",
        "    print(f\"Recorded '{word}' at {timestamp}\")\n",
        "\n",
        "# Register the callback function in Python\n",
        "from google.colab import output\n",
        "output.register_callback('record_timestamp', record_timestamp)\n"
      ]
    },
    {
      "cell_type": "code",
      "source": [
        "from IPython.display import display, Javascript, HTML  # Import HTML\n",
        "from datetime import datetime\n",
        "\n",
        "# Initialize a list to store timestamps and words\n",
        "timestamps = []\n",
        "\n",
        "# JavaScript code to capture keystrokes and timestamps\n",
        "js_code = '''\n",
        "function captureKey(event) {\n",
        "    var word = document.getElementById('input-box').value;\n",
        "    if (event.key === \" \" || event.key === \"Enter\") {\n",
        "        google.colab.kernel.invokeFunction('record_timestamp', [word], {});\n",
        "        document.getElementById('input-box').value = \"\"; // Clear after each word\n",
        "    }\n",
        "}\n",
        "'''\n",
        "\n",
        "# Display a text box for typing and bind keystrokes to our function\n",
        "display(Javascript(js_code))\n",
        "input_html = '''\n",
        "    <input type=\"text\" id=\"input-box\" onkeyup=\"captureKey(event)\" placeholder=\"Type here...\">\n",
        "'''\n",
        "display(Javascript(\"google.colab.output.setIframeHeight(0, true, {maxHeight: 500})\"))\n",
        "display(HTML(input_html))  # Use display(HTML(input_html)) instead of display_html\n",
        "\n",
        "# Function to capture timestamps\n",
        "def record_timestamp(word):\n",
        "    timestamp = datetime.now()\n",
        "    timestamps.append((word, timestamp))\n",
        "    print(f\"Recorded '{word}' at {timestamp}\")\n",
        "\n",
        "# Register the callback function in Python\n",
        "from google.colab import output\n",
        "output.register_callback('record_timestamp', record_timestamp)\n"
      ],
      "metadata": {
        "colab": {
          "base_uri": "https://localhost:8080/",
          "height": 146
        },
        "id": "YEhpttkBJ4OZ",
        "outputId": "4fc0db5b-3777-4cc0-8177-3154d4819e5a"
      },
      "execution_count": null,
      "outputs": [
        {
          "output_type": "display_data",
          "data": {
            "text/plain": [
              "<IPython.core.display.Javascript object>"
            ],
            "application/javascript": [
              "\n",
              "function captureKey(event) {\n",
              "    var word = document.getElementById('input-box').value;\n",
              "    if (event.key === \" \" || event.key === \"Enter\") {\n",
              "        google.colab.kernel.invokeFunction('record_timestamp', [word], {});\n",
              "        document.getElementById('input-box').value = \"\"; // Clear after each word\n",
              "    }\n",
              "}\n"
            ]
          },
          "metadata": {}
        },
        {
          "output_type": "display_data",
          "data": {
            "text/plain": [
              "<IPython.core.display.Javascript object>"
            ],
            "application/javascript": [
              "google.colab.output.setIframeHeight(0, true, {maxHeight: 500})"
            ]
          },
          "metadata": {}
        },
        {
          "output_type": "display_data",
          "data": {
            "text/plain": [
              "<IPython.core.display.HTML object>"
            ],
            "text/html": [
              "\n",
              "    <input type=\"text\" id=\"input-box\" onkeyup=\"captureKey(event)\" placeholder=\"Type here...\">\n"
            ]
          },
          "metadata": {}
        },
        {
          "output_type": "stream",
          "name": "stdout",
          "text": [
            "Recorded 'hi ' at 2024-11-12 11:40:48.520346\n",
            "Recorded 'guys ' at 2024-11-12 11:40:53.437524\n",
            "Recorded 'this ' at 2024-11-12 11:40:55.421875\n",
            "Recorded 'this ' at 2024-11-12 11:40:56.929855\n",
            "Recorded 'is ' at 2024-11-12 11:40:59.270744\n",
            "Recorded 'sainadh' at 2024-11-12 11:41:11.516137\n"
          ]
        }
      ]
    }
  ]
}